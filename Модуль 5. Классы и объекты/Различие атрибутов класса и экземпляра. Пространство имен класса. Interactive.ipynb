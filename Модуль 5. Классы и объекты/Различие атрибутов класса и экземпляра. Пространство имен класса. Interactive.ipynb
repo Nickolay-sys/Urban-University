{
 "cells": [
  {
   "cell_type": "markdown",
   "metadata": {},
   "source": [
    "Подключено к Python 3.12.5"
   ]
  },
  {
   "cell_type": "code",
   "execution_count": 1,
   "id": "3c05f1ec-f7a5-40c2-95ce-a80262ec7a38",
   "metadata": {},
   "outputs": [
    {
     "name": "stdout",
     "output_type": "stream",
     "text": [
      "Привет, меня зовут Denis, мне 22\n",
      "Привет, меня зовут Max, мне 22\n",
      "Денис младше Макса? False\n",
      "Макс старше Дениса? False\n",
      "Имя Denis\n",
      "Денис и Макс одинаковы? False\n",
      "У меня день рождения, мне теперь 23\n",
      "Денис младше Макса? True\n",
      "Макс старше Дениса? True\n",
      "True\n"
     ]
    }
   ],
   "source": [
    "class Human:\n",
    "    head = True\n",
    "    \n",
    "    def __init__(self, name, age):\n",
    "        self.name = name\n",
    "        self.age = age\n",
    "        self.say_info()\n",
    "        \n",
    "    def say_info(self):\n",
    "        print(f'Привет, меня зовут {self.name}, мне {self.age}') \n",
    "        \n",
    "    def birthday(self):\n",
    "        self.age += 1\n",
    "        print(f'У меня день рождения, мне теперь {self.age}')\n",
    "        \n",
    "    def __str__(self):\n",
    "        return f'{self.name}'\n",
    "        \n",
    "    def __len__(self):      \n",
    "        return self.age\n",
    "    \n",
    "    def __lt__(self, other):\n",
    "        return self.age < other.age\n",
    "    \n",
    "    def __gt__(self, other):\n",
    "        return self.age > other.age\n",
    "    \n",
    "    def __eq__(self, other):\n",
    "        return self.name == other.name and self.age == other.age\n",
    "    \n",
    "    def __bool__(self):\n",
    "        return bool(self.age)\n",
    "            \n",
    "    def __del__(self):\n",
    "        print(f'{self.name} ушёл')\n",
    "\n",
    "Den = Human('Denis', 22)\n",
    "Max = Human('Max', 22)\n",
    "print(f'Денис младше Макса? {Den < Max}')\n",
    "print(f'Макс старше Дениса? {Max > Den}')\n",
    "print(f'Имя {Den}')\n",
    "print(f'Денис и Макс одинаковы? {Den == Max}')\n",
    "Max.birthday()\n",
    "print(f'Денис младше Макса? {Den < Max}')\n",
    "print(f'Макс старше Дениса? {Max > Den}')\n",
    "print(Human.head)"
   ]
  },
  {
   "cell_type": "code",
   "execution_count": 2,
   "metadata": {},
   "outputs": [],
   "source": [
    "head = False"
   ]
  },
  {
   "cell_type": "code",
   "execution_count": 3,
   "metadata": {},
   "outputs": [],
   "source": [
    "Den.head = True"
   ]
  },
  {
   "cell_type": "code",
   "execution_count": 4,
   "metadata": {},
   "outputs": [
    {
     "data": {
      "text/plain": [
       "True"
      ]
     },
     "execution_count": 4,
     "metadata": {},
     "output_type": "execute_result"
    }
   ],
   "source": [
    "Den.head"
   ]
  },
  {
   "cell_type": "code",
   "execution_count": 5,
   "metadata": {},
   "outputs": [
    {
     "data": {
      "text/plain": [
       "True"
      ]
     },
     "execution_count": 5,
     "metadata": {},
     "output_type": "execute_result"
    }
   ],
   "source": [
    "Human.head"
   ]
  },
  {
   "cell_type": "code",
   "execution_count": 6,
   "metadata": {},
   "outputs": [
    {
     "data": {
      "text/plain": [
       "{'name': 'Denis', 'age': 22, 'head': True}"
      ]
     },
     "execution_count": 6,
     "metadata": {},
     "output_type": "execute_result"
    }
   ],
   "source": [
    "Den.__dict__"
   ]
  }
 ],
 "metadata": {
  "kernelspec": {
   "display_name": "Python 3",
   "language": "python",
   "name": "python3"
  },
  "language_info": {
   "codemirror_mode": {
    "name": "ipython",
    "version": 3
   },
   "file_extension": ".py",
   "mimetype": "text/x-python",
   "name": "python",
   "nbconvert_exporter": "python",
   "pygments_lexer": "ipython3",
   "version": "3.12.5"
  }
 },
 "nbformat": 4,
 "nbformat_minor": 2
}
